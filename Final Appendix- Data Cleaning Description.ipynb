{
 "cells": [
  {
   "cell_type": "markdown",
   "metadata": {},
   "source": [
    "# Data Cleaning"
   ]
  },
  {
   "cell_type": "markdown",
   "metadata": {},
   "source": [
    "### 1. Import libraries necessary for the project"
   ]
  },
  {
   "cell_type": "code",
   "execution_count": 1,
   "metadata": {},
   "outputs": [],
   "source": [
    "import pandas as pd\n",
    "import numpy as np\n",
    "import matplotlib.pyplot as plt\n",
    "\n",
    "import re\n",
    "import seaborn as sns\n",
    "from sklearn.linear_model import LinearRegression, LogisticRegression\n",
    "from scipy import stats\n",
    "import statsmodels.formula.api as smf"
   ]
  },
  {
   "cell_type": "code",
   "execution_count": 2,
   "metadata": {},
   "outputs": [],
   "source": [
    "#plot style\n",
    "plt.style.use(\"seaborn\")"
   ]
  },
  {
   "cell_type": "markdown",
   "metadata": {},
   "source": [
    "***"
   ]
  },
  {
   "cell_type": "markdown",
   "metadata": {},
   "source": [
    "### 2. Import the datasets for analysis"
   ]
  },
  {
   "cell_type": "code",
   "execution_count": 3,
   "metadata": {},
   "outputs": [],
   "source": [
    "df_risk = pd.read_csv(\"RISKFACTORSANDACCESSTOCARE.csv\")\n",
    "df_dmg = pd.read_csv(\"DEMOGRAPHICS.csv\")\n",
    "df_health_summary = pd.read_csv(\"SUMMARYMEASURESOFHEALTH.csv\")"
   ]
  },
  {
   "cell_type": "markdown",
   "metadata": {},
   "source": [
    "***"
   ]
  },
  {
   "cell_type": "markdown",
   "metadata": {},
   "source": [
    "### 3. Merge all all three imported data tables "
   ]
  },
  {
   "cell_type": "code",
   "execution_count": 4,
   "metadata": {},
   "outputs": [
    {
     "name": "stdout",
     "output_type": "stream",
     "text": [
      "size of index: 91\n",
      "\n",
      "Index(['State_FIPS_Code', 'County_FIPS_Code', 'CHSI_County_Name',\n",
      "       'CHSI_State_Name', 'CHSI_State_Abbr', 'Strata_ID_Number', 'No_Exercise',\n",
      "       'CI_Min_No_Exercise', 'CI_Max_No_Exercise', 'Few_Fruit_Veg',\n",
      "       'CI_Min_Fruit_Veg', 'CI_Max_Fruit_Veg', 'Obesity', 'CI_Min_Obesity',\n",
      "       'CI_Max_Obesity', 'High_Blood_Pres', 'CI_Min_High_Blood_Pres',\n",
      "       'CI_Max_High_Blood_Pres', 'Smoker', 'CI_Min_Smoker', 'CI_Max_Smoker',\n",
      "       'Diabetes', 'CI_Min_Diabetes', 'CI_Max_Diabetes', 'Uninsured',\n",
      "       'Elderly_Medicare', 'Disabled_Medicare', 'Prim_Care_Phys_Rate',\n",
      "       'Dentist_Rate', 'Community_Health_Center_Ind', 'HPSA_Ind',\n",
      "       'Strata_Determining_Factors', 'Number_Counties', 'Population_Size',\n",
      "       'Min_Population_Size', 'Max_Population_Size', 'Population_Density',\n",
      "       'Min_Population_Density', 'Max_Population_Density', 'Poverty',\n",
      "       'Min_Poverty', 'Max_Poverty', 'Age_19_Under', 'Min_Age_19_Under',\n",
      "       'Max_Age_19_Under', 'Age_19_64', 'Min_Age_19_64', 'Max_Age_19_65',\n",
      "       'Age_65_84', 'Min_Age_65_84', 'Max_Age_65_85', 'Age_85_and_Over',\n",
      "       'Min_Age_85_and_Over', 'Max_Age_85_and_Over', 'White', 'Min_White',\n",
      "       'Max_White', 'Black', 'Min_Black', 'Max_Black', 'Native_American',\n",
      "       'Min_Native_American', 'Max_Native_American', 'Asian', 'Min_Asian',\n",
      "       'Max_Asian', 'Hispanic', 'Min_Hispanic', 'Max_Hispanic', 'ALE',\n",
      "       'Min_ALE', 'Max_ALE', 'US_ALE', 'All_Death', 'Min_All_Death',\n",
      "       'Max_All_Death', 'US_All_Death', 'CI_Min_All_Death', 'CI_Max_All_Death',\n",
      "       'Health_Status', 'Min_Health_Status', 'Max_Health_Status',\n",
      "       'US_Health_Status', 'CI_Min_Health_Status', 'CI_Max_Health_Status',\n",
      "       'Unhealthy_Days', 'Min_Unhealthy_Days', 'Max_Unhealthy_Days',\n",
      "       'US_Unhealthy_Days', 'CI_Min_Unhealthy_Days', 'CI_Max_Unhealthy_Days'],\n",
      "      dtype='object')\n"
     ]
    }
   ],
   "source": [
    "raw_df = df_risk.merge(df_dmg,how=\"inner\")\n",
    "raw_df = raw_df.merge(df_health_summary,how=\"inner\")\n",
    "print(f\"size of index: {raw_df.shape[1]}\\n\")\n",
    "print(raw_df.columns)"
   ]
  },
  {
   "cell_type": "markdown",
   "metadata": {},
   "source": [
    "#### There are quite a lot of columns. We will for now focus on the ones we need."
   ]
  },
  {
   "cell_type": "markdown",
   "metadata": {},
   "source": [
    "### 4. Lowercase all the column names and filter out unused columns"
   ]
  },
  {
   "cell_type": "code",
   "execution_count": 5,
   "metadata": {},
   "outputs": [
    {
     "name": "stdout",
     "output_type": "stream",
     "text": [
      "size of filtered index: 41\n",
      "\n",
      "Index(['state_fips_code', 'county_fips_code', 'chsi_county_name',\n",
      "       'chsi_state_name', 'chsi_state_abbr', 'strata_id_number', 'no_exercise',\n",
      "       'few_fruit_veg', 'obesity', 'high_blood_pres', 'smoker', 'diabetes',\n",
      "       'uninsured', 'elderly_medicare', 'disabled_medicare',\n",
      "       'prim_care_phys_rate', 'dentist_rate', 'community_health_center_ind',\n",
      "       'hpsa_ind', 'strata_determining_factors', 'number_counties',\n",
      "       'population_size', 'population_density', 'poverty', 'age_19_under',\n",
      "       'age_19_64', 'age_65_84', 'age_85_and_over', 'white', 'black',\n",
      "       'native_american', 'asian', 'hispanic', 'ale', 'us_ale', 'all_death',\n",
      "       'us_all_death', 'health_status', 'us_health_status', 'unhealthy_days',\n",
      "       'us_unhealthy_days'],\n",
      "      dtype='object')\n"
     ]
    }
   ],
   "source": [
    "new_colnames = [raw_df.columns[i].lower() for i in range(len(raw_df.columns))]\n",
    "raw_df.columns = new_colnames\n",
    "# Filter out the columns for the confidence interval (CI), max, and min\n",
    "full_df = raw_df.drop(raw_df.filter(regex =\"\\Aci_|\\Amax|\\Amin\").columns, axis=1)\n",
    "print(f\"size of filtered index: {full_df.shape[1]}\\n\")\n",
    "print(full_df.columns)"
   ]
  },
  {
   "cell_type": "markdown",
   "metadata": {},
   "source": [
    "### 5. Check the numbers of population and counties in the original data"
   ]
  },
  {
   "cell_type": "code",
   "execution_count": 6,
   "metadata": {},
   "outputs": [
    {
     "name": "stdout",
     "output_type": "stream",
     "text": [
      "Original population size: 296410404\n",
      "Original number of counties: 3141\n",
      "Original population mean of county: 94368.2\n",
      "Original population median of county: 25235.0\n"
     ]
    }
   ],
   "source": [
    "print(f\"Original population size: {full_df.population_size.sum()}\")\n",
    "print(f\"Original number of counties: {full_df.shape[0]}\")\n",
    "print(\"Original population mean of county: {:.1f}\".format(full_df.population_size.mean()))\n",
    "print(\"Original population median of county: {:.1f}\".format(full_df.population_size.median()))"
   ]
  },
  {
   "cell_type": "markdown",
   "metadata": {},
   "source": [
    "### 6. Remove entries with missing value"
   ]
  },
  {
   "cell_type": "code",
   "execution_count": 7,
   "metadata": {},
   "outputs": [
    {
     "data": {
      "text/html": [
       "<div>\n",
       "<style scoped>\n",
       "    .dataframe tbody tr th:only-of-type {\n",
       "        vertical-align: middle;\n",
       "    }\n",
       "\n",
       "    .dataframe tbody tr th {\n",
       "        vertical-align: top;\n",
       "    }\n",
       "\n",
       "    .dataframe thead th {\n",
       "        text-align: right;\n",
       "    }\n",
       "</style>\n",
       "<table border=\"1\" class=\"dataframe\">\n",
       "  <thead>\n",
       "    <tr style=\"text-align: right;\">\n",
       "      <th></th>\n",
       "      <th>no_exercise</th>\n",
       "      <th>diabetes</th>\n",
       "      <th>obesity</th>\n",
       "      <th>few_fruit_veg</th>\n",
       "      <th>smoker</th>\n",
       "      <th>high_blood_pres</th>\n",
       "      <th>poverty</th>\n",
       "      <th>population_size</th>\n",
       "      <th>chsi_state_name</th>\n",
       "      <th>all_death</th>\n",
       "    </tr>\n",
       "  </thead>\n",
       "  <tbody>\n",
       "    <tr>\n",
       "      <th>0</th>\n",
       "      <td>27.8</td>\n",
       "      <td>14.2</td>\n",
       "      <td>24.5</td>\n",
       "      <td>78.6</td>\n",
       "      <td>26.6</td>\n",
       "      <td>29.1</td>\n",
       "      <td>10.4</td>\n",
       "      <td>48612</td>\n",
       "      <td>Alabama</td>\n",
       "      <td>1041.5</td>\n",
       "    </tr>\n",
       "    <tr>\n",
       "      <th>1</th>\n",
       "      <td>27.2</td>\n",
       "      <td>7.2</td>\n",
       "      <td>23.6</td>\n",
       "      <td>76.2</td>\n",
       "      <td>24.6</td>\n",
       "      <td>30.5</td>\n",
       "      <td>10.2</td>\n",
       "      <td>162586</td>\n",
       "      <td>Alabama</td>\n",
       "      <td>856.9</td>\n",
       "    </tr>\n",
       "    <tr>\n",
       "      <th>7</th>\n",
       "      <td>29.2</td>\n",
       "      <td>11.2</td>\n",
       "      <td>27.0</td>\n",
       "      <td>81.9</td>\n",
       "      <td>25.5</td>\n",
       "      <td>33.2</td>\n",
       "      <td>16.4</td>\n",
       "      <td>112141</td>\n",
       "      <td>Alabama</td>\n",
       "      <td>1100.3</td>\n",
       "    </tr>\n",
       "    <tr>\n",
       "      <th>10</th>\n",
       "      <td>30.3</td>\n",
       "      <td>6.0</td>\n",
       "      <td>31.2</td>\n",
       "      <td>82.8</td>\n",
       "      <td>30.0</td>\n",
       "      <td>26.5</td>\n",
       "      <td>14.9</td>\n",
       "      <td>41744</td>\n",
       "      <td>Alabama</td>\n",
       "      <td>1040.4</td>\n",
       "    </tr>\n",
       "    <tr>\n",
       "      <th>21</th>\n",
       "      <td>29.4</td>\n",
       "      <td>10.0</td>\n",
       "      <td>22.2</td>\n",
       "      <td>76.2</td>\n",
       "      <td>27.6</td>\n",
       "      <td>35.0</td>\n",
       "      <td>13.3</td>\n",
       "      <td>79886</td>\n",
       "      <td>Alabama</td>\n",
       "      <td>1028.7</td>\n",
       "    </tr>\n",
       "  </tbody>\n",
       "</table>\n",
       "</div>"
      ],
      "text/plain": [
       "    no_exercise  diabetes  obesity  few_fruit_veg  smoker  high_blood_pres  \\\n",
       "0          27.8      14.2     24.5           78.6    26.6             29.1   \n",
       "1          27.2       7.2     23.6           76.2    24.6             30.5   \n",
       "7          29.2      11.2     27.0           81.9    25.5             33.2   \n",
       "10         30.3       6.0     31.2           82.8    30.0             26.5   \n",
       "21         29.4      10.0     22.2           76.2    27.6             35.0   \n",
       "\n",
       "    poverty  population_size chsi_state_name  all_death  \n",
       "0      10.4            48612         Alabama     1041.5  \n",
       "1      10.2           162586         Alabama      856.9  \n",
       "7      16.4           112141         Alabama     1100.3  \n",
       "10     14.9            41744         Alabama     1040.4  \n",
       "21     13.3            79886         Alabama     1028.7  "
      ]
     },
     "execution_count": 7,
     "metadata": {},
     "output_type": "execute_result"
    }
   ],
   "source": [
    "# store variables we are interested in into another dataframe\n",
    "df = full_df[[\"no_exercise\",\"diabetes\",\"obesity\",\"few_fruit_veg\",\"smoker\",\"high_blood_pres\",\"poverty\",\"population_size\",\"chsi_state_name\",\"all_death\"]]\n",
    "\n",
    "df = df[(df[\"no_exercise\"]>0) & (df[\"diabetes\"]>0) & (df[\"obesity\"]>0) \n",
    "        & (df[\"few_fruit_veg\"]>0) & (df[\"smoker\"]>0) & (df[\"high_blood_pres\"]>0) & (df[\"poverty\"]>0)]\n",
    "\n",
    "df.head()"
   ]
  },
  {
   "cell_type": "markdown",
   "metadata": {},
   "source": [
    "Units for the columns no_exercise, diabetes,obesity, few_fruit_veg, smoker, high_blood_pres, and poverty are in percentage(%).\n",
    "\n",
    "Unit for population_size is in number of people\n",
    "\n",
    "chsi_state_name specifies the state in which each of the county is located."
   ]
  },
  {
   "cell_type": "markdown",
   "metadata": {},
   "source": [
    "### 7. Print the counts of counties, population size and population means of the counties"
   ]
  },
  {
   "cell_type": "code",
   "execution_count": 8,
   "metadata": {},
   "outputs": [
    {
     "name": "stdout",
     "output_type": "stream",
     "text": [
      "Population size: 261559783\n",
      "Number of counties: 1434\n",
      "Population mean of county: 182399.0\n",
      "Population median of county: 65142.0\n",
      "Number of States included: 50\n"
     ]
    }
   ],
   "source": [
    "print(f\"Population size: {df.population_size.sum()}\")\n",
    "print(f\"Number of counties: {df.shape[0]}\")\n",
    "print(f\"Population mean of county: {round(df.population_size.mean(),0)}\")\n",
    "print(f\"Population median of county: {round(df.population_size.median(),0)}\")\n",
    "print(f\"Number of States included: {df.chsi_state_name.nunique()}\")"
   ]
  },
  {
   "cell_type": "markdown",
   "metadata": {},
   "source": [
    "#### Insight\n",
    "It is fortunate that after eliminating rows with no entries, the total population didn't drop as much as the proportional decrease in the number of counties. This might be due to that fact that those counties have an average of less people and they do not have suffcient resource and staffs to keep track of these numbers as well as organizing them. This is also evident in the fact that population mean per county almost doubled and median almost tripled after cleaning our data. We conclude that counties with insufficient data have an average of fewer people compare the the entire population. By cleaning them out, we have potentially discarded data that contain bias related to small population."
   ]
  },
  {
   "cell_type": "markdown",
   "metadata": {},
   "source": [
    "### 8. Export the cleaned dataset"
   ]
  },
  {
   "cell_type": "code",
   "execution_count": 9,
   "metadata": {},
   "outputs": [],
   "source": [
    "df.to_csv (r'final-dataset.csv', index = False, header=True)"
   ]
  }
 ],
 "metadata": {
  "kernelspec": {
   "display_name": "Python 3",
   "language": "python",
   "name": "python3"
  },
  "language_info": {
   "codemirror_mode": {
    "name": "ipython",
    "version": 3
   },
   "file_extension": ".py",
   "mimetype": "text/x-python",
   "name": "python",
   "nbconvert_exporter": "python",
   "pygments_lexer": "ipython3",
   "version": "3.8.5"
  }
 },
 "nbformat": 4,
 "nbformat_minor": 4
}
